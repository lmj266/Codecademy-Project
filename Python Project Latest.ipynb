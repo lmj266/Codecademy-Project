{
 "cells": [
  {
   "cell_type": "markdown",
   "id": "76175f7d",
   "metadata": {},
   "source": [
    "Importing relevant librarys"
   ]
  },
  {
   "cell_type": "code",
   "execution_count": null,
   "id": "f1059c2a",
   "metadata": {},
   "outputs": [],
   "source": [
    "import csv  "
   ]
  },
  {
   "cell_type": "markdown",
   "id": "5759a6d7",
   "metadata": {},
   "source": [
    "Code below creates a dictionary for each file column"
   ]
  },
  {
   "cell_type": "code",
   "execution_count": 12,
   "id": "edbec436",
   "metadata": {},
   "outputs": [],
   "source": [
    "\n",
    "with open (\"insurance.csv\", newline = \"\") as insurance_csv: \n",
    "        insurance_reader = csv.DictReader(insurance_csv,delimiter = \",\")\n",
    "        insurance_list = []\n",
    "        for row in insurance_reader:\n",
    "                insurance_list.append(row)"
   ]
  },
  {
   "cell_type": "markdown",
   "id": "8de96ac7",
   "metadata": {},
   "source": [
    "Iterating through each item in the insurance_list and appending the patients information to the empty dictionary "
   ]
  },
  {
   "cell_type": "code",
   "execution_count": 10,
   "id": "496a4f69",
   "metadata": {},
   "outputs": [],
   "source": [
    "patients_age = []\n",
    "patients_sex = []\n",
    "patients_bmi = []\n",
    "patients_children = []\n",
    "patients_smoker = []\n",
    "patients_region = []\n",
    "patients_charges = []\n",
    "\n",
    "for person in insurance_list: \n",
    "    patients_age.append(int(person['age']))\n",
    "    patients_sex.append(person['sex'])\n",
    "    patients_bmi.append(person['bmi'])\n",
    "    patients_children.append(int(person['children']))\n",
    "    patients_smoker.append(person['smoker'])\n",
    "    patients_region.append(person['region'])\n",
    "    patients_charges.append(float(person['charges']))\n",
    "    "
   ]
  },
  {
   "cell_type": "markdown",
   "id": "b1ebe7f2",
   "metadata": {},
   "source": [
    " Creating a function that will print out the average age in patients by using some basic mathemaric operators "
   ]
  },
  {
   "cell_type": "code",
   "execution_count": 5,
   "id": "abc1ad69",
   "metadata": {},
   "outputs": [
    {
     "data": {
      "text/plain": [
       "'The average age for patients in this insurance file is 39 years '"
      ]
     },
     "execution_count": 5,
     "metadata": {},
     "output_type": "execute_result"
    }
   ],
   "source": [
    "def average_age(patients_age): \n",
    "    total_age = 0 \n",
    "    for age in patients_age: \n",
    "        total_age += int(age)\n",
    "    return (\"The average age for patients in this insurance file is \" + str(round(total_age/len((patients_age)))) + \" years \")\n",
    "average_age(patients_age)\n"
   ]
  },
  {
   "cell_type": "markdown",
   "id": "1f76610e",
   "metadata": {},
   "source": [
    "Creating another function that begins with assigns the value 0 to both variables, and increases by +=1 for every time the if statement is True. From there it prints out our total values for smokers and non-smokers"
   ]
  },
  {
   "cell_type": "code",
   "execution_count": 6,
   "id": "2571babe",
   "metadata": {},
   "outputs": [
    {
     "data": {
      "text/plain": [
       "'In this insurance file, there are 274 smokers and 1064 non-smokers.'"
      ]
     },
     "execution_count": 6,
     "metadata": {},
     "output_type": "execute_result"
    }
   ],
   "source": [
    "def smokers(patients_smoker):\n",
    "    smokers = 0 \n",
    "    non_smokers = 0 \n",
    "    for smoker in patients_smoker: \n",
    "        if smoker == \"yes\": \n",
    "            smokers +=1 \n",
    "        if smoker == 'no': \n",
    "            non_smokers +=1 \n",
    "    return(\"In this insurance file, there are \" + str(smokers) + \" smokers and \" + str(non_smokers) + \" non-smokers.\")\n",
    "\n",
    "smokers(patients_smoker)\n"
   ]
  },
  {
   "cell_type": "markdown",
   "id": "46e05f64",
   "metadata": {},
   "source": [
    "A similar function used previously but with regars to the Region of the patients"
   ]
  },
  {
   "cell_type": "code",
   "execution_count": 7,
   "id": "3c8058e9",
   "metadata": {},
   "outputs": [
    {
     "data": {
      "text/plain": [
       "'The largest region in this insurance file is the southeast region, which has 364 patients, which equates to 27% of the total region count.'"
      ]
     },
     "execution_count": 7,
     "metadata": {},
     "output_type": "execute_result"
    }
   ],
   "source": [
    "def geographic_region(patients_region): \n",
    "    southwest = 0\n",
    "    northwest = 0 \n",
    "    northeast = 0 \n",
    "    southeast = 0\n",
    "    for region in patients_region: \n",
    "        if  region == 'southwest': \n",
    "            southwest +=1 \n",
    "        elif region == 'northwest': \n",
    "            northwest +=1\n",
    "        elif region == 'northeast': \n",
    "            northeast +=1\n",
    "        elif region == 'southeast': \n",
    "            southeast +=1 \n",
    "    total_patients = (southwest+northwest+northeast+southeast)\n",
    "    return(\"The largest region in this insurance file is the southeast region, which has \" + str(southeast) + \" patients, which equates to \" + str(round(southeast/total_patients*100))) + \"% of the total region count.\"   \n",
    "geographic_region(patients_region)        \n"
   ]
  },
  {
   "cell_type": "markdown",
   "id": "78be0d84",
   "metadata": {},
   "source": [
    "The last and final function will the value of 4 variables and output the price of insurance for a smoker vs the price of a non smoker "
   ]
  },
  {
   "cell_type": "code",
   "execution_count": 11,
   "id": "1f6b4746",
   "metadata": {},
   "outputs": [
    {
     "name": "stdout",
     "output_type": "stream",
     "text": [
      "The average insurance cost for a smoker is 32060.89 dollars.\n",
      "The average insurance cost for a non-smoker is 8434.27 dollars.\n"
     ]
    }
   ],
   "source": [
    "\n",
    "    total_smoker_cost = 0 \n",
    "    total_non_smoker_cost = 0 \n",
    "    smoker = 0\n",
    "    non_smoker = 0\n",
    "    for i in range(len(patients_smoker)-1): \n",
    "        if patients_smoker[i] == \"yes\": \n",
    "            total_smoker_cost += patients_charges[i]\n",
    "            smoker +=1\n",
    "        else : \n",
    "            total_non_smoker_cost += patients_charges[i]\n",
    "            non_smoker +=1\n",
    "    \n",
    "average_smoker_cost = round((total_smoker_cost/smoker),2)\n",
    "average_non_smoker_cost = round((total_non_smoker_cost/non_smoker),2)\n",
    "\n",
    "print(\"The average insurance cost for a smoker is \" + str(average_smoker_cost) + \" dollars.\")\n",
    "print(\"The average insurance cost for a non-smoker is \" + str(average_non_smoker_cost) + \" dollars.\")\n",
    "\n",
    "\n",
    "   "
   ]
  }
 ],
 "metadata": {
  "kernelspec": {
   "display_name": "Python 3 (ipykernel)",
   "language": "python",
   "name": "python3"
  },
  "language_info": {
   "codemirror_mode": {
    "name": "ipython",
    "version": 3
   },
   "file_extension": ".py",
   "mimetype": "text/x-python",
   "name": "python",
   "nbconvert_exporter": "python",
   "pygments_lexer": "ipython3",
   "version": "3.9.13"
  }
 },
 "nbformat": 4,
 "nbformat_minor": 5
}
